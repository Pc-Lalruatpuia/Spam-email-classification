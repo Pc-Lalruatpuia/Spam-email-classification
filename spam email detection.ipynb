{
 "cells": [
  {
   "cell_type": "code",
   "execution_count": 37,
   "id": "b3c74265",
   "metadata": {},
   "outputs": [
    {
     "name": "stdout",
     "output_type": "stream",
     "text": [
      "Requirement already satisfied: scikit-learn in c:\\users\\ruatp\\anaconda3\\lib\\site-packages (1.0.2)\n",
      "Requirement already satisfied: threadpoolctl>=2.0.0 in c:\\users\\ruatp\\anaconda3\\lib\\site-packages (from scikit-learn) (2.2.0)\n",
      "Requirement already satisfied: joblib>=0.11 in c:\\users\\ruatp\\anaconda3\\lib\\site-packages (from scikit-learn) (1.1.0)\n",
      "Requirement already satisfied: scipy>=1.1.0 in c:\\users\\ruatp\\anaconda3\\lib\\site-packages (from scikit-learn) (1.7.3)\n",
      "Requirement already satisfied: numpy>=1.14.6 in c:\\users\\ruatp\\anaconda3\\lib\\site-packages (from scikit-learn) (1.22.4)\n",
      "Note: you may need to restart the kernel to use updated packages.\n"
     ]
    }
   ],
   "source": [
    "pip install scikit-learn"
   ]
  },
  {
   "cell_type": "code",
   "execution_count": 38,
   "id": "0b7b8cb0",
   "metadata": {},
   "outputs": [],
   "source": [
    "import numpy as np\n",
    "from sklearn.model_selection import train_test_split\n",
    "from sklearn.feature_extraction.text import CountVectorizer\n",
    "from sklearn.naive_bayes import MultinomialNB\n",
    "from sklearn.metrics import accuracy_score, confusion_matrix\n",
    "from sklearn.pipeline import make_pipeline\n",
    "from sklearn.datasets import fetch_20newsgroups"
   ]
  },
  {
   "cell_type": "code",
   "execution_count": 39,
   "id": "f3d97d3b",
   "metadata": {},
   "outputs": [],
   "source": [
    "data = fetch_20newsgroups(subset='all', remove=('headers', 'footers', 'quotes'))\n",
    "emails = data.data\n",
    "labels = data.target"
   ]
  },
  {
   "cell_type": "code",
   "execution_count": 40,
   "id": "c0938651",
   "metadata": {},
   "outputs": [],
   "source": [
    "X_train, X_test, y_train, y_test = train_test_split(emails, labels, test_size=0.2, random_state=42)"
   ]
  },
  {
   "cell_type": "code",
   "execution_count": 41,
   "id": "b80e8581",
   "metadata": {},
   "outputs": [],
   "source": [
    "model = make_pipeline(CountVectorizer(), MultinomialNB())"
   ]
  },
  {
   "cell_type": "code",
   "execution_count": 42,
   "id": "5c0439f7",
   "metadata": {},
   "outputs": [
    {
     "data": {
      "text/plain": [
       "Pipeline(steps=[('countvectorizer', CountVectorizer()),\n",
       "                ('multinomialnb', MultinomialNB())])"
      ]
     },
     "execution_count": 42,
     "metadata": {},
     "output_type": "execute_result"
    }
   ],
   "source": [
    "model.fit(X_train, y_train)"
   ]
  },
  {
   "cell_type": "code",
   "execution_count": 44,
   "id": "6a3edc9f",
   "metadata": {},
   "outputs": [],
   "source": [
    "predictions = model.predict(X_test)"
   ]
  },
  {
   "cell_type": "code",
   "execution_count": 45,
   "id": "ccf10752",
   "metadata": {},
   "outputs": [],
   "source": [
    "accuracy = accuracy_score(y_test, predictions)\n",
    "conf_matrix = confusion_matrix(y_test, predictions)"
   ]
  },
  {
   "cell_type": "code",
   "execution_count": 46,
   "id": "9a7106f1",
   "metadata": {},
   "outputs": [
    {
     "name": "stdout",
     "output_type": "stream",
     "text": [
      "Accuracy: 0.6175066312997347\n",
      "Confusion Matrix:\n",
      "[[ 38   1   0   0   0   0   0   1   5   0   0   1   0   1   3  75   2  13\n",
      "    8   3]\n",
      " [  1 151   0   9   1   6   1   1   6   0   1   8   0   2   5   6   1   2\n",
      "    1   0]\n",
      " [  1  50   8  48   5  51   0   0   7   0   0  13   2   0   1   5   1   0\n",
      "    3   0]\n",
      " [  0  16   0 134   6  10   2   0   1   0   0   5   2   1   0   4   0   1\n",
      "    1   0]\n",
      " [  2  15   1  16 119   2   2   1  12   0   0  13   3   5   2   7   0   2\n",
      "    3   0]\n",
      " [  0  29   0   5   0 171   0   0   2   0   0   0   0   1   1   4   0   1\n",
      "    1   0]\n",
      " [  0  12   0  26   5   3 103   4   2   0   1  11   6   3   4   5   1   3\n",
      "    4   0]\n",
      " [  1   3   0   0   0   1   2 124  10   0   1   8   3   0   4   8   1  12\n",
      "   18   0]\n",
      " [  0   2   0   0   0   1   4   8  98   1   1   5   0   1   3  11   3  17\n",
      "   13   0]\n",
      " [  0   2   0   0   0   0   0   0  10 142   6   2   0   1   0  23   0  15\n",
      "   10   0]\n",
      " [  1   1   0   0   0   0   0   0   5   0 159   2   0   2   0  13   0   5\n",
      "   10   0]\n",
      " [  0   5   1   0   1   1   0   0   1   0   1 155   0   2   3   7   1  11\n",
      "   12   0]\n",
      " [  1  18   0  13   1   4   3   3   5   0   1  19  99   3   8   9   1   7\n",
      "    7   0]\n",
      " [  1   1   0   0   0   0   0   0   2   0   1   1   2 146   1  24   0   7\n",
      "    8   0]\n",
      " [  0   7   0   1   0   0   0   0   9   1   0   8   1   2 130  13   0   6\n",
      "   11   0]\n",
      " [  0   0   0   0   0   0   0   0   4   0   0   0   0   1   0 191   0   5\n",
      "    1   0]\n",
      " [  0   1   1   0   0   0   0   0   7   0   0   6   0   2   2  12 103  15\n",
      "   39   0]\n",
      " [  2   1   0   0   0   0   0   0   6   0   0   5   0   1   0  12   2 145\n",
      "    8   0]\n",
      " [  1   0   0   0   0   0   0   0   5   0   0   0   0   1   3  16  10  17\n",
      "  106   0]\n",
      " [ 13   0   0   0   0   0   0   0   4   0   0   1   0   2   0  90   3   6\n",
      "   11   6]]\n"
     ]
    }
   ],
   "source": [
    "print(f\"Accuracy: {accuracy}\")\n",
    "print(\"Confusion Matrix:\")\n",
    "print(conf_matrix)"
   ]
  },
  {
   "cell_type": "code",
   "execution_count": null,
   "id": "299a6c35",
   "metadata": {},
   "outputs": [],
   "source": []
  }
 ],
 "metadata": {
  "kernelspec": {
   "display_name": "Python 3 (ipykernel)",
   "language": "python",
   "name": "python3"
  },
  "language_info": {
   "codemirror_mode": {
    "name": "ipython",
    "version": 3
   },
   "file_extension": ".py",
   "mimetype": "text/x-python",
   "name": "python",
   "nbconvert_exporter": "python",
   "pygments_lexer": "ipython3",
   "version": "3.9.12"
  }
 },
 "nbformat": 4,
 "nbformat_minor": 5
}
